{
 "cells": [
  {
   "cell_type": "code",
   "execution_count": 1,
   "id": "2fa74312",
   "metadata": {},
   "outputs": [],
   "source": [
    "from keras.models import Sequential\n",
    "from keras.layers import Conv2D\n",
    "from keras.layers import MaxPooling2D\n",
    "from keras.layers import Flatten\n",
    "from keras.layers import Dense\n",
    "import cv2\n",
    "from keras.preprocessing.image import ImageDataGenerator\n",
    "import scipy\n",
    "import tensorflow as tf"
   ]
  },
  {
   "cell_type": "code",
   "execution_count": 2,
   "id": "0dae1ce9",
   "metadata": {},
   "outputs": [],
   "source": [
    "classifier = Sequential()\n",
    "\n",
    "classifier.add(\n",
    "    Conv2D(32, (3,3), \n",
    "    input_shape = (64,64,3),\n",
    "    activation = 'relu') #rectified linear activation function\n",
    ")\n",
    "\n",
    "\n",
    "classifier.add(\n",
    "    MaxPooling2D(pool_size = (2,2))\n",
    ")\n",
    "\n",
    "\n",
    "classifier.add(\n",
    "    Flatten()\n",
    ")\n",
    "\n",
    "\n",
    "classifier.add(\n",
    "    Dense(units = 128,activation = 'relu'))\n",
    "\n",
    "classifier.add(\n",
    "    Dense(units = 1, activation = 'sigmoid'))\n",
    "\n",
    "classifier.compile(\n",
    "    optimizer = 'adam',\n",
    "    loss = 'binary_crossentropy',\n",
    "    metrics = ['accuracy'])\n"
   ]
  },
  {
   "cell_type": "code",
   "execution_count": 3,
   "id": "d941912f",
   "metadata": {},
   "outputs": [
    {
     "name": "stdout",
     "output_type": "stream",
     "text": [
      "Found 5862 images belonging to 2 classes.\n",
      "Found 322 images belonging to 2 classes.\n"
     ]
    }
   ],
   "source": [
    "train_datagen = ImageDataGenerator(rescale=1./255,\n",
    "                                  shear_range = 0.2,\n",
    "                                  zoom_range = 0.2,\n",
    "                                  horizontal_flip = True)\n",
    "\n",
    "test_datagen = ImageDataGenerator(rescale = 1./255)\n",
    "\n",
    "training_set = train_datagen.flow_from_directory('C:/Users/avish/Desktop/All/.sliit/SLIIT Y3S1/Design Project - I - EC3061/things needed in the final demo/data/cnn/train',\n",
    "                                                target_size = (64, 64),\n",
    "                                                batch_size = 32,\n",
    "                                                class_mode = 'binary')\n",
    "\n",
    "test_set = test_datagen.flow_from_directory('C:/Users/avish/Desktop/All/.sliit/SLIIT Y3S1/Design Project - I - EC3061/things needed in the final demo/data/cnn/test',\n",
    "                                           target_size = (64,64),\n",
    "                                           batch_size = 32,\n",
    "                                           class_mode = 'binary')\n"
   ]
  },
  {
   "cell_type": "code",
   "execution_count": 4,
   "id": "e12041bd",
   "metadata": {},
   "outputs": [
    {
     "name": "stdout",
     "output_type": "stream",
     "text": [
      "Epoch 1/10\n"
     ]
    },
    {
     "name": "stderr",
     "output_type": "stream",
     "text": [
      "C:\\Users\\avish\\AppData\\Local\\Temp\\ipykernel_23916\\3687748477.py:1: UserWarning: `Model.fit_generator` is deprecated and will be removed in a future version. Please use `Model.fit`, which supports generators.\n",
      "  history=classifier.fit_generator(training_set,\n"
     ]
    },
    {
     "name": "stdout",
     "output_type": "stream",
     "text": [
      "80/80 [==============================] - ETA: 0s - loss: 0.1317 - accuracy: 0.9809WARNING:tensorflow:Your input ran out of data; interrupting training. Make sure that your dataset or generator can generate at least `steps_per_epoch * epochs` batches (in this case, 46 batches). You may need to use the repeat() function when building your dataset.\n",
      "80/80 [==============================] - 14s 173ms/step - loss: 0.1317 - accuracy: 0.9809 - val_loss: 23.5302 - val_accuracy: 0.0000e+00\n",
      "Epoch 2/10\n",
      "80/80 [==============================] - 11s 143ms/step - loss: 0.0011 - accuracy: 1.0000\n",
      "Epoch 3/10\n",
      "80/80 [==============================] - 11s 136ms/step - loss: 4.8405e-04 - accuracy: 1.0000\n",
      "Epoch 4/10\n",
      "80/80 [==============================] - 11s 138ms/step - loss: 4.5214e-04 - accuracy: 1.0000\n",
      "Epoch 5/10\n",
      "80/80 [==============================] - 11s 137ms/step - loss: 1.7428e-04 - accuracy: 1.0000\n",
      "Epoch 6/10\n",
      "80/80 [==============================] - 10s 129ms/step - loss: 9.4918e-05 - accuracy: 1.0000\n",
      "Epoch 7/10\n",
      "80/80 [==============================] - 11s 137ms/step - loss: 5.3527e-05 - accuracy: 1.0000\n",
      "Epoch 8/10\n",
      "80/80 [==============================] - 11s 131ms/step - loss: 4.7711e-05 - accuracy: 1.0000\n",
      "Epoch 9/10\n",
      "80/80 [==============================] - 10s 126ms/step - loss: 3.7206e-05 - accuracy: 1.0000\n",
      "Epoch 10/10\n",
      "80/80 [==============================] - 10s 130ms/step - loss: 7.5549e-05 - accuracy: 1.0000\n"
     ]
    }
   ],
   "source": [
    "history=classifier.fit_generator(training_set,\n",
    "                        steps_per_epoch = 80,\n",
    "                        epochs = 10,\n",
    "                        validation_data = test_set,\n",
    "                        validation_steps = 46)"
   ]
  },
  {
   "cell_type": "code",
   "execution_count": 5,
   "id": "3f52425d",
   "metadata": {},
   "outputs": [
    {
     "name": "stdout",
     "output_type": "stream",
     "text": [
      "1/1 [==============================] - 0s 90ms/step\n",
      "red\n",
      "1/1 [==============================] - 0s 31ms/step\n",
      "green\n"
     ]
    }
   ],
   "source": [
    "import numpy as np\n",
    "from tensorflow.keras import utils\n",
    "test_image = utils.load_img('C:/Users/avish/Desktop/All/.sliit/SLIIT Y3S1/Design Project - I - EC3061/things needed in the final demo/data/cnn/gor.png',target_size=(64,64))\n",
    "test_image = utils.img_to_array(test_image)\n",
    "test_image = np.expand_dims(test_image, axis = 0)\n",
    "result= classifier.predict(test_image)\n",
    "training_set.class_indices\n",
    "\n",
    "if result[0][0]==1:\n",
    "    prediction = 'red'\n",
    "else:\n",
    "    prediction = 'green'\n",
    "print(prediction)\n",
    "\n",
    "import numpy as np\n",
    "from keras.preprocessing import image\n",
    "test_image = utils.load_img('C:/Users/avish/Desktop/All/.sliit/SLIIT Y3S1/Design Project - I - EC3061/things needed in the final demo/data/cnn/rog.png',target_size=(64,64))\n",
    "test_image = utils.img_to_array(test_image)\n",
    "test_image = np.expand_dims(test_image, axis = 0)\n",
    "result= classifier.predict(test_image)\n",
    "training_set.class_indices\n",
    "\n",
    "if result[0][0]==1:\n",
    "    prediction = 'red'\n",
    "else:\n",
    "    prediction = 'green'\n",
    "print(prediction)"
   ]
  },
  {
   "cell_type": "code",
   "execution_count": 6,
   "id": "01e12d22",
   "metadata": {},
   "outputs": [
    {
     "name": "stderr",
     "output_type": "stream",
     "text": [
      "C:\\Users\\avish\\AppData\\Local\\Temp\\ipykernel_23916\\3372335041.py:1: UserWarning: `Model.evaluate_generator` is deprecated and will be removed in a future version. Please use `Model.evaluate`, which supports generators.\n",
      "  train_loss, train_acc = classifier.evaluate_generator(training_set,steps=2)\n",
      "C:\\Users\\avish\\AppData\\Local\\Temp\\ipykernel_23916\\3372335041.py:3: UserWarning: `Model.evaluate_generator` is deprecated and will be removed in a future version. Please use `Model.evaluate`, which supports generators.\n",
      "  test_loss,test_acc = classifier.evaluate_generator(test_set,steps=2)\n"
     ]
    },
    {
     "name": "stdout",
     "output_type": "stream",
     "text": [
      "Train: 1.000, Test: 0.000\n"
     ]
    }
   ],
   "source": [
    "train_loss, train_acc = classifier.evaluate_generator(training_set,steps=2)\n",
    "\n",
    "test_loss,test_acc = classifier.evaluate_generator(test_set,steps=2)\n",
    "\n",
    "print('Train: %.3f, Test: %.3f'% (train_acc,test_acc))"
   ]
  },
  {
   "cell_type": "code",
   "execution_count": 7,
   "id": "92fa6498",
   "metadata": {},
   "outputs": [
    {
     "data": {
      "image/png": "[encoded data removed]",
      "text/plain": [
       "<Figure size 432x288 with 1 Axes>"
      ]
     },
     "metadata": {
      "needs_background": "light"
     },
     "output_type": "display_data"
    }
   ],
   "source": [
    "from matplotlib import pyplot as plt\n",
    "plt.title(\"Training Loss\")\n",
    "plt.plot(history.history['loss'],label='Loss')\n",
    "plt.show()"
   ]
  },
  {
   "cell_type": "code",
   "execution_count": 8,
   "id": "f9f048a5",
   "metadata": {},
   "outputs": [
    {
     "data": {
      "image/png": "[encoded data removed]",
      "text/plain": [
       "<Figure size 432x288 with 1 Axes>"
      ]
     },
     "metadata": {
      "needs_background": "light"
     },
     "output_type": "display_data"
    }
   ],
   "source": [
    "plt.title(\"Accuracy\")\n",
    "plt.plot(history.history['accuracy'],label='Accuracy', color=\"red\")\n",
    "plt.show()"
   ]
  },
  {
   "cell_type": "code",
   "execution_count": 9,
   "id": "35ed17b6",
   "metadata": {},
   "outputs": [
    {
     "name": "stdout",
     "output_type": "stream",
     "text": [
      "{'loss': [0.1317218542098999, 0.001117310137487948, 0.0004840480687562376, 0.0004521397640928626, 0.00017428392311558127, 9.491845412412658e-05, 5.3526680858340114e-05, 4.771067324327305e-05, 3.720606764545664e-05, 7.55492364987731e-05], 'accuracy': [0.9808593988418579, 1.0, 1.0, 1.0, 1.0, 1.0, 1.0, 1.0, 1.0, 1.0], 'val_loss': [23.530223846435547], 'val_accuracy': [0.0]}\n"
     ]
    }
   ],
   "source": [
    "print(history.history)"
   ]
  },
  {
   "cell_type": "code",
   "execution_count": null,
   "id": "dc4ca3d6",
   "metadata": {},
   "outputs": [],
   "source": []
  }
 ],
 "metadata": {
  "kernelspec": {
   "display_name": "Python 3 (ipykernel)",
   "language": "python",
   "name": "python3"
  },
  "language_info": {
   "codemirror_mode": {
    "name": "ipython",
    "version": 3
   },
   "file_extension": ".py",
   "mimetype": "text/x-python",
   "name": "python",
   "nbconvert_exporter": "python",
   "pygments_lexer": "ipython3",
   "version": "3.10.4"
  }
 },
 "nbformat": 4,
 "nbformat_minor": 5
}
