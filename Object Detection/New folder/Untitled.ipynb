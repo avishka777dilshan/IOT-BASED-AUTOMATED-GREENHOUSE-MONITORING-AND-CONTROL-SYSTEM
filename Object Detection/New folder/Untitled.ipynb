{
 "cells": [
  {
   "cell_type": "code",
   "execution_count": null,
   "id": "8a3e7639",
   "metadata": {},
   "outputs": [],
   "source": [
    "import cv2\n",
    "import numpy as np\n",
    "import matplotlib.pyplot as plt\n",
    "import matplotlib"
   ]
  },
  {
   "cell_type": "code",
   "execution_count": null,
   "id": "6487141f",
   "metadata": {},
   "outputs": [],
   "source": [
    "#yellow\n",
    "#lower = np.array([15,150,20])\n",
    "#upper = np.array([35,255,255])\n",
    "\n",
    "#red\n",
    "lower = np.array([170,200,20])\n",
    "upper = np.array([180,255,255])\n",
    "\n",
    "imagex = matplotlib.image.imread(\"C:/Users/avish/Desktop/All/.sliit/SLIIT Y3S1/Design Project - I - EC3061/neww/capture.png\")\n",
    "plt.imshow(imagex)"
   ]
  },
  {
   "cell_type": "code",
   "execution_count": null,
   "id": "6e7589df",
   "metadata": {},
   "outputs": [],
   "source": [
    "video = cv2.VideoCapture(0)"
   ]
  },
  {
   "cell_type": "code",
   "execution_count": null,
   "id": "dc71f5cd",
   "metadata": {},
   "outputs": [],
   "source": [
    "while True: \n",
    "    success, img = video.read() #read and return data from file\n",
    "    image = cv2.cvtColor(img, cv2.COLOR_BGR2HSV) #convert colour space\n",
    "    mask = cv2.inRange(image, lower, upper) #set bits to 255 if its in the limit othervise turn into 0 \n",
    "\n",
    "    contours, hierarchy = cv2.findContours(mask, cv2.RETR_EXTERNAL, cv2.CHAIN_APPROX_SIMPLE)\n",
    "    \n",
    "    if len(contours) != 0:\n",
    "        for contour in contours:\n",
    "            if cv2.contourArea(contour) > 500:\n",
    "                x,y,w,h = cv2.boundingRect(contour)\n",
    "                cv2.rectangle(img, (x,y),(x+w,y+h),(0,0,255),3)\n",
    "    \n",
    "    cv2.imshow(\"mask\",mask)\n",
    "    cv2.imshow(\"webcam\", img)\n",
    "\n",
    "    cv2.waitKey(1)\n"
   ]
  },
  {
   "cell_type": "code",
   "execution_count": null,
   "id": "091e6d7e",
   "metadata": {},
   "outputs": [],
   "source": [
    "my1 = matplotlib.image.imread(\"C:/Users/avish/Desktop/All/.sliit/SLIIT Y3S1/Design Project - I - EC3061/neww/my1.png\")\n",
    "plt.imshow(my1)"
   ]
  },
  {
   "cell_type": "code",
   "execution_count": null,
   "id": "0ab1ae05",
   "metadata": {},
   "outputs": [],
   "source": [
    "my1 = matplotlib.image.imread(\"C:/Users/avish/Desktop/All/.sliit/SLIIT Y3S1/Design Project - I - EC3061/neww/my2.png\")\n",
    "plt.imshow(my1)"
   ]
  },
  {
   "cell_type": "code",
   "execution_count": null,
   "id": "c1830e94",
   "metadata": {},
   "outputs": [],
   "source": []
  }
 ],
 "metadata": {
  "kernelspec": {
   "display_name": "Python 3 (ipykernel)",
   "language": "python",
   "name": "python3"
  },
  "language_info": {
   "codemirror_mode": {
    "name": "ipython",
    "version": 3
   },
   "file_extension": ".py",
   "mimetype": "text/x-python",
   "name": "python",
   "nbconvert_exporter": "python",
   "pygments_lexer": "ipython3",
   "version": "3.10.4"
  }
 },
 "nbformat": 4,
 "nbformat_minor": 5
}
