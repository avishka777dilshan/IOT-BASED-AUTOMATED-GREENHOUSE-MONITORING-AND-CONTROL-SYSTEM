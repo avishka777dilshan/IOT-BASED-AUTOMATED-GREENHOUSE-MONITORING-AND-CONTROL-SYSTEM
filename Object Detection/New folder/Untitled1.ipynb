{
 "cells": [
  {
   "cell_type": "code",
   "execution_count": 1,
   "id": "ef574407",
   "metadata": {},
   "outputs": [
    {
     "ename": "KeyboardInterrupt",
     "evalue": "",
     "output_type": "error",
     "traceback": [
      "\u001b[1;31m---------------------------------------------------------------------------\u001b[0m",
      "\u001b[1;31mKeyboardInterrupt\u001b[0m                         Traceback (most recent call last)",
      "Input \u001b[1;32mIn [1]\u001b[0m, in \u001b[0;36m<cell line: 11>\u001b[1;34m()\u001b[0m\n\u001b[0;32m     12\u001b[0m success, video \u001b[38;5;241m=\u001b[39m webcam_video\u001b[38;5;241m.\u001b[39mread() \u001b[38;5;66;03m# Reading webcam footage\u001b[39;00m\n\u001b[0;32m     14\u001b[0m img \u001b[38;5;241m=\u001b[39m cv2\u001b[38;5;241m.\u001b[39mcvtColor(video, cv2\u001b[38;5;241m.\u001b[39mCOLOR_BGR2HSV) \u001b[38;5;66;03m# Converting BGR image to HSV format\u001b[39;00m\n\u001b[1;32m---> 16\u001b[0m mask \u001b[38;5;241m=\u001b[39m \u001b[43mcv2\u001b[49m\u001b[38;5;241;43m.\u001b[39;49m\u001b[43minRange\u001b[49m\u001b[43m(\u001b[49m\u001b[43mimg\u001b[49m\u001b[43m,\u001b[49m\u001b[43m \u001b[49m\u001b[43mlower\u001b[49m\u001b[43m,\u001b[49m\u001b[43m \u001b[49m\u001b[43mupper\u001b[49m\u001b[43m)\u001b[49m \u001b[38;5;66;03m# Masking the image to find our color\u001b[39;00m\n\u001b[0;32m     18\u001b[0m mask_contours, hierarchy \u001b[38;5;241m=\u001b[39m cv2\u001b[38;5;241m.\u001b[39mfindContours(mask, cv2\u001b[38;5;241m.\u001b[39mRETR_EXTERNAL, cv2\u001b[38;5;241m.\u001b[39mCHAIN_APPROX_SIMPLE) \u001b[38;5;66;03m# Finding contours in mask image\u001b[39;00m\n\u001b[0;32m     20\u001b[0m \u001b[38;5;66;03m# Finding position of all contours\u001b[39;00m\n",
      "\u001b[1;31mKeyboardInterrupt\u001b[0m: "
     ]
    }
   ],
   "source": [
    "import cv2\n",
    "import numpy as np\n",
    "\n",
    "# Specifying upper and lower ranges of color to detect in hsv format\n",
    "lower = np.array([15, 150, 20])\n",
    "upper = np.array([35, 255, 255]) # (These ranges will detect Yellow)\n",
    "\n",
    "# Capturing webcam footage\n",
    "webcam_video = cv2.VideoCapture(0)\n",
    "\n",
    "while True:\n",
    "    success, video = webcam_video.read() # Reading webcam footage\n",
    "\n",
    "    img = cv2.cvtColor(video, cv2.COLOR_BGR2HSV) # Converting BGR image to HSV format\n",
    "\n",
    "    mask = cv2.inRange(img, lower, upper) # Masking the image to find our color\n",
    "\n",
    "    mask_contours, hierarchy = cv2.findContours(mask, cv2.RETR_EXTERNAL, cv2.CHAIN_APPROX_SIMPLE) # Finding contours in mask image\n",
    "\n",
    "    # Finding position of all contours\n",
    "    if len(mask_contours) != 0:\n",
    "        for mask_contour in mask_contours:\n",
    "            if cv2.contourArea(mask_contour) > 500:\n",
    "                x, y, w, h = cv2.boundingRect(mask_contour)\n",
    "                cv2.rectangle(video, (x, y), (x + w, y + h), (0, 0, 255), 3) #drawing rectangle\n",
    "\n",
    "    cv2.imshow(\"mask image\", mask) # Displaying mask image\n",
    "\n",
    "    cv2.imshow(\"window\", video) # Displaying webcam image\n",
    "\n",
    "    cv2.waitKey(1)"
   ]
  },
  {
   "cell_type": "code",
   "execution_count": null,
   "id": "f7b613f0",
   "metadata": {},
   "outputs": [],
   "source": []
  }
 ],
 "metadata": {
  "kernelspec": {
   "display_name": "Python 3 (ipykernel)",
   "language": "python",
   "name": "python3"
  },
  "language_info": {
   "codemirror_mode": {
    "name": "ipython",
    "version": 3
   },
   "file_extension": ".py",
   "mimetype": "text/x-python",
   "name": "python",
   "nbconvert_exporter": "python",
   "pygments_lexer": "ipython3",
   "version": "3.10.4"
  }
 },
 "nbformat": 4,
 "nbformat_minor": 5
}
