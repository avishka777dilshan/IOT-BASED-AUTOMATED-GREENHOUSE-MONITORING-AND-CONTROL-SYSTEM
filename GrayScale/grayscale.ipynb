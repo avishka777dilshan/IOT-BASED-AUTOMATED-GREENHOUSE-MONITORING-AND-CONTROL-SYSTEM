{
 "cells": [
  {
   "cell_type": "code",
   "execution_count": 2,
   "id": "12e80aec",
   "metadata": {},
   "outputs": [],
   "source": [
    "import numpy as np\n",
    "import cv2\n",
    "#ee"
   ]
  },
  {
   "cell_type": "code",
   "execution_count": 2,
   "id": "f9b3d6d8",
   "metadata": {},
   "outputs": [],
   "source": [
    "# Particular image in this case would contain (512*512) rows and columns meaning 262,144 pixels\n",
    "ROWS =  512\n",
    "COLS =  512"
   ]
  },
  {
   "cell_type": "code",
   "execution_count": 4,
   "id": "bb2e6679",
   "metadata": {
    "scrolled": true
   },
   "outputs": [
    {
     "name": "stdout",
     "output_type": "stream",
     "text": [
      "<_io.TextIOWrapper name='C:/Users/avish/Desktop/New folder/barbara_gray.raw' mode='r' encoding='cp1252'>\n"
     ]
    }
   ],
   "source": [
    "# Opening the input image (RAW)\n",
    "fin = open('C:/Users/avish/Desktop/New folder/barbara_gray.raw')     \n",
    "print(fin)"
   ]
  },
  {
   "cell_type": "code",
   "execution_count": 5,
   "id": "9d461ed9",
   "metadata": {},
   "outputs": [
    {
     "name": "stdout",
     "output_type": "stream",
     "text": [
      "... Load input image\n",
      "Dimension of the old image array:  1\n",
      "Size of the old image array:  262144\n"
     ]
    }
   ],
   "source": [
    "print(\"... Load input image\")\n",
    "img = np.fromfile(fin, dtype = np.uint8, count = ROWS * COLS)  #Construct an array from data in a text or binary file\n",
    "print(\"Dimension of the old image array: \", img.ndim)\n",
    "print(\"Size of the old image array: \", img.size)"
   ]
  },
  {
   "cell_type": "code",
   "execution_count": 6,
   "id": "6580023a",
   "metadata": {},
   "outputs": [
    {
     "name": "stdout",
     "output_type": "stream",
     "text": [
      "(262144,)\n",
      "262144\n"
     ]
    }
   ],
   "source": [
    "print(img.shape)\n",
    "print(img.size)\n",
    "#print(img[1,1])"
   ]
  },
  {
   "cell_type": "code",
   "execution_count": 7,
   "id": "4af4ec20",
   "metadata": {
    "scrolled": true
   },
   "outputs": [
    {
     "name": "stdout",
     "output_type": "stream",
     "text": [
      "New dimension of the array: 2\n",
      "----------------------------------------------------\n",
      " The 2D array of the original image is: \n",
      " [[220 229 230 ... 107 106  91]\n",
      " [206 228 229 ...  94  97  97]\n",
      " [212 227 226 ...  84  97 100]\n",
      " ...\n",
      " [ 75  62  72 ...  34  43  30]\n",
      " [ 34  50  60 ...  35  29  37]\n",
      " [ 49  47  62 ...  43  30  29]]\n",
      "----------------------------------------------------\n",
      "The shape of the original image array is:  (512, 512)\n"
     ]
    }
   ],
   "source": [
    "# Conversion from 1D to 2D array\n",
    "img.shape = (img.size // COLS,COLS)\n",
    "print(\"New dimension of the array:\", img.ndim)\n",
    "print(\"----------------------------------------------------\")\n",
    "print(\" The 2D array of the original image is: \\n\", img)\n",
    "print(\"----------------------------------------------------\")\n",
    "print(\"The shape of the original image array is: \", img.shape)"
   ]
  },
  {
   "cell_type": "code",
   "execution_count": 8,
   "id": "7714eb4b",
   "metadata": {},
   "outputs": [],
   "source": [
    "## Save the output image\n",
    "#print(\"... Save the output image\")\n",
    "#img.astype('int8').tofile('NewImage.raw')\n",
    "#print(\"... File successfully saved\")\n",
    "## Closing the file\n",
    "#fin.close()"
   ]
  },
  {
   "cell_type": "code",
   "execution_count": 9,
   "id": "e00181c3",
   "metadata": {},
   "outputs": [
    {
     "name": "stdout",
     "output_type": "stream",
     "text": [
      "(512, 512)\n"
     ]
    }
   ],
   "source": [
    "print(img.shape)"
   ]
  },
  {
   "cell_type": "code",
   "execution_count": 10,
   "id": "a12626b3",
   "metadata": {},
   "outputs": [
    {
     "ename": "NameError",
     "evalue": "name 'getPixel' is not defined",
     "output_type": "error",
     "traceback": [
      "\u001b[1;31m---------------------------------------------------------------------------\u001b[0m",
      "\u001b[1;31mNameError\u001b[0m                                 Traceback (most recent call last)",
      "Input \u001b[1;32mIn [10]\u001b[0m, in \u001b[0;36m<cell line: 1>\u001b[1;34m()\u001b[0m\n\u001b[1;32m----> 1\u001b[0m a\u001b[38;5;241m=\u001b[39m\u001b[43mgetPixel\u001b[49m(img,\u001b[38;5;241m1\u001b[39m,\u001b[38;5;241m1\u001b[39m)\n",
      "\u001b[1;31mNameError\u001b[0m: name 'getPixel' is not defined"
     ]
    }
   ],
   "source": [
    "a=getPixel(img,1,1)"
   ]
  },
  {
   "cell_type": "code",
   "execution_count": null,
   "id": "24e8eb2b",
   "metadata": {},
   "outputs": [],
   "source": []
  },
  {
   "cell_type": "code",
   "execution_count": null,
   "id": "6f58280e",
   "metadata": {},
   "outputs": [],
   "source": []
  }
 ],
 "metadata": {
  "kernelspec": {
   "display_name": "Python 3 (ipykernel)",
   "language": "python",
   "name": "python3"
  },
  "language_info": {
   "codemirror_mode": {
    "name": "ipython",
    "version": 3
   },
   "file_extension": ".py",
   "mimetype": "text/x-python",
   "name": "python",
   "nbconvert_exporter": "python",
   "pygments_lexer": "ipython3",
   "version": "3.10.4"
  }
 },
 "nbformat": 4,
 "nbformat_minor": 5
}
