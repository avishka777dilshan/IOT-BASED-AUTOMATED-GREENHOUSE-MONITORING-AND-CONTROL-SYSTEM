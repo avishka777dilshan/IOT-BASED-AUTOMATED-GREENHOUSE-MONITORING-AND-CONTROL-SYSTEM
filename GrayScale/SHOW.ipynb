{
 "cells": [
  {
   "cell_type": "code",
   "execution_count": 1,
   "id": "ae9e367b",
   "metadata": {},
   "outputs": [],
   "source": [
    "import numpy as np\n",
    "import matplotlib\n",
    "import matplotlib.pyplot as plt\n",
    "import matplotlib.figure as fig\n",
    "import cv2\n",
    "#import mathh"
   ]
  },
  {
   "cell_type": "code",
   "execution_count": 2,
   "id": "ed83de6c",
   "metadata": {},
   "outputs": [],
   "source": [
    "#rgb_weights = [0.2989, 0.5870, 0.1140]\n",
    "imagex = matplotlib.image.imread(\"C:/Users/avish/Desktop/New folder/tomato12.jpg\")"
   ]
  },
  {
   "cell_type": "code",
   "execution_count": 3,
   "id": "74b9ab64",
   "metadata": {},
   "outputs": [
    {
     "name": "stdout",
     "output_type": "stream",
     "text": [
      "(256, 443, 3)\n",
      "(256, 1329)\n",
      "[[251 255 254 ...  85 165 114]\n",
      " [251 255 254 ...  86 164 114]\n",
      " [251 255 254 ...  89 165 116]\n",
      " ...\n",
      " [ 95 159  10 ...  59  96   0]\n",
      " [ 95 159  11 ...  59  96   0]\n",
      " [ 94 158  10 ...  59  96   1]]\n",
      "(256, 443, 3)\n",
      "251\n"
     ]
    }
   ],
   "source": [
    "print(imagex.shape)\n",
    "newarr = imagex.reshape(256,443*3)\n",
    "print(newarr.shape)\n",
    "ROW=len(newarr)\n",
    "COL=len(newarr[0])\n",
    "redRange = np.zeros([256, 1329])\n",
    "greenRange = np.zeros([256, 1329])\n",
    "blueRange = np.zeros([256, 1329])\n",
    "print(newarr)\n",
    "\n",
    "print(imagex.shape)\n",
    "print(newarr[0,0])\n",
    "\n",
    "#for x in range (ROW):\n",
    "   # for y in range (COL):\n",
    "      #  print(newarr[x,y])"
   ]
  },
  {
   "cell_type": "code",
   "execution_count": null,
   "id": "b814f1c9",
   "metadata": {},
   "outputs": [],
   "source": []
  },
  {
   "cell_type": "code",
   "execution_count": 4,
   "id": "a271adb6",
   "metadata": {},
   "outputs": [
    {
     "name": "stdout",
     "output_type": "stream",
     "text": [
      "0.0\n",
      "0.0\n"
     ]
    }
   ],
   "source": [
    "#for x in range (ROW):\n",
    "   # for y in range (COL):\n",
    "       # print(redRange[x,y])\n",
    "print(redRange[0,0])  \n",
    "print(redRange[0,0])"
   ]
  },
  {
   "cell_type": "code",
   "execution_count": 5,
   "id": "a831a806",
   "metadata": {},
   "outputs": [],
   "source": [
    "a = newarr[0]"
   ]
  },
  {
   "cell_type": "code",
   "execution_count": 6,
   "id": "27cc98e7",
   "metadata": {},
   "outputs": [],
   "source": [
    "for i in range (256):\n",
    "    for j in range(0, COL, 3):\n",
    "        x=newarr[i,j]\n",
    "        \n",
    "        z=newarr[i,j]\n",
    "        if (z>0)and(z<130):\n",
    "            yy=1\n",
    "        else:\n",
    "            yy=0\n",
    "        blueRange[i,j]=yy\n",
    "\n",
    "\n",
    "        \n",
    "       # print(newarr[i,j])\n",
    "\n",
    "for m in range (256):\n",
    "    for n in range(1, COL, 3):\n",
    "        \n",
    "        y=newarr[m,n]\n",
    "        if (y>30)and(y<200):\n",
    "            yy=1\n",
    "        else:\n",
    "            yy=0\n",
    "        greenRange[m,n]=yy\n",
    "        \n",
    "        \n",
    "for a in range (256):\n",
    "    for b in range(2, COL, 3):\n",
    "        \n",
    "        if x>200:\n",
    "            xx=1\n",
    "        else:\n",
    "            xx=0\n",
    "        redRange[a,b]=xx\n",
    "        \n",
    "#for x in range (ROW):\n",
    " #   for y in range (COL):\n",
    "  #      print(blueRange[x,y])\n",
    "    \n"
   ]
  },
  {
   "cell_type": "code",
   "execution_count": null,
   "id": "8017575e",
   "metadata": {},
   "outputs": [],
   "source": [
    "for x in range (256):\n",
    "    for y in range (1329):\n",
    "        if (redRange[x,y])and(greenRange[x,y])and(blueRange[x,y]):\n",
    "            newarr[x,y]=0\n",
    "        else:\n",
    "            newarr[x,y]=255\n",
    "                \n",
    "                    "
   ]
  },
  {
   "cell_type": "code",
   "execution_count": null,
   "id": "354d1871",
   "metadata": {},
   "outputs": [],
   "source": [
    "#print(newarr)\n"
   ]
  },
  {
   "cell_type": "code",
   "execution_count": null,
   "id": "d549907b",
   "metadata": {},
   "outputs": [],
   "source": [
    "#print(newarr.shape)"
   ]
  },
  {
   "cell_type": "code",
   "execution_count": null,
   "id": "01013f32",
   "metadata": {},
   "outputs": [],
   "source": [
    "#for x in range (256):\n",
    "    #for y in range (1329):\n",
    "    #    print(newarr[x,y])"
   ]
  },
  {
   "cell_type": "code",
   "execution_count": null,
   "id": "27207de3",
   "metadata": {},
   "outputs": [],
   "source": [
    "#print(newarr)\n",
    "result = newarr.flatten()"
   ]
  },
  {
   "cell_type": "code",
   "execution_count": null,
   "id": "b833d3ec",
   "metadata": {},
   "outputs": [],
   "source": [
    "#print(result)"
   ]
  },
  {
   "cell_type": "code",
   "execution_count": null,
   "id": "1dc33abe",
   "metadata": {},
   "outputs": [],
   "source": [
    "#B = np.reshape(340224,(256,443,3))"
   ]
  },
  {
   "cell_type": "code",
   "execution_count": null,
   "id": "26b3a517",
   "metadata": {},
   "outputs": [],
   "source": [
    "k=0\n",
    "v=0\n",
    "for x in range (256):\n",
    "    for y in range (443):\n",
    "        for z in range (3):\n",
    "            v=result[k]\n",
    "            imagex[x,y,z]=v\n",
    "            k=k+1\n",
    "            print(imagex)\n",
    "\n",
    "print(imagex)\n",
    "print(imagex.shape)\n",
    "print(imagex.size)"
   ]
  },
  {
   "cell_type": "code",
   "execution_count": null,
   "id": "119cbdef",
   "metadata": {},
   "outputs": [],
   "source": [
    "cv2.imwrite('C:/Users/avish/Desktop/New folder/imge.jpg',imagex)"
   ]
  }
 ],
 "metadata": {
  "kernelspec": {
   "display_name": "Python 3 (ipykernel)",
   "language": "python",
   "name": "python3"
  },
  "language_info": {
   "codemirror_mode": {
    "name": "ipython",
    "version": 3
   },
   "file_extension": ".py",
   "mimetype": "text/x-python",
   "name": "python",
   "nbconvert_exporter": "python",
   "pygments_lexer": "ipython3",
   "version": "3.10.4"
  }
 },
 "nbformat": 4,
 "nbformat_minor": 5
}
