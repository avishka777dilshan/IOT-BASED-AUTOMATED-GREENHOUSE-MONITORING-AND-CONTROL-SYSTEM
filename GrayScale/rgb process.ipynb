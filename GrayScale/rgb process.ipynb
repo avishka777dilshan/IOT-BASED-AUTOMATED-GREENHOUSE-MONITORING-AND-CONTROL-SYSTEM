{
 "cells": [
  {
   "cell_type": "code",
   "execution_count": 1,
   "id": "12535e6f",
   "metadata": {},
   "outputs": [],
   "source": [
    "import numpy as np\n",
    "import matplotlib\n",
    "import matplotlib.pyplot as plt\n",
    "import matplotlib.figure as fig\n",
    "import cv2\n",
    "import math\n",
    "#import"
   ]
  },
  {
   "cell_type": "code",
   "execution_count": 2,
   "id": "2835620a",
   "metadata": {},
   "outputs": [
    {
     "name": "stdout",
     "output_type": "stream",
     "text": [
      "Data type <class 'numpy.ndarray'>\n",
      "[ 88 166 116]\n",
      "340224\n",
      "<class 'numpy.ndarray'>\n",
      "[[[251 255 254]\n",
      "  [251 255 254]\n",
      "  [251 255 254]\n",
      "  ...\n",
      "  [ 85 165 114]\n",
      "  [ 85 165 114]\n",
      "  [ 85 165 114]]\n",
      "\n",
      " [[251 255 254]\n",
      "  [251 255 254]\n",
      "  [251 255 254]\n",
      "  ...\n",
      "  [ 85 165 114]\n",
      "  [ 86 164 114]\n",
      "  [ 86 164 114]]\n",
      "\n",
      " [[251 255 254]\n",
      "  [251 255 254]\n",
      "  [253 255 254]\n",
      "  ...\n",
      "  [ 88 166 116]\n",
      "  [ 88 166 116]\n",
      "  [ 89 165 116]]\n",
      "\n",
      " ...\n",
      "\n",
      " [[ 95 159  10]\n",
      "  [ 95 158   9]\n",
      "  [ 96 156   8]\n",
      "  ...\n",
      "  [ 59  96   0]\n",
      "  [ 59  96   0]\n",
      "  [ 59  96   0]]\n",
      "\n",
      " [[ 95 159  11]\n",
      "  [ 95 157  10]\n",
      "  [ 96 156   9]\n",
      "  ...\n",
      "  [ 59  96   0]\n",
      "  [ 59  96   0]\n",
      "  [ 59  96   0]]\n",
      "\n",
      " [[ 94 158  10]\n",
      "  [ 94 156   9]\n",
      "  [ 95 155   8]\n",
      "  ...\n",
      "  [ 59  96   1]\n",
      "  [ 59  96   1]\n",
      "  [ 59  96   1]]]\n"
     ]
    }
   ],
   "source": [
    "import numpy as np\n",
    "import matplotlib\n",
    "import matplotlib.pyplot as plt\n",
    "import matplotlib.figure as fig\n",
    "import cv2\n",
    "import math\n",
    "\n",
    "rgb_weights = [0.2989, 0.5870, 0.1140]\n",
    "imagex = matplotlib.image.imread(\"C:/Users/avish/Desktop/New folder/tomato12.jpg\")\n",
    "\n",
    "print(\"Data type\", type(imagex))\n",
    "\n",
    "print(imagex[2,441])\n",
    "print(imagex.size)\n",
    "#imagex[0,0]=[,0,0]\n",
    "#if imagex[0,0]\n",
    "print(type(imagex))\n",
    "print(imagex)"
   ]
  },
  {
   "cell_type": "code",
   "execution_count": 3,
   "id": "08896114",
   "metadata": {},
   "outputs": [],
   "source": [
    "rgb_weights = [0.2989, 0.5870, 0.1140]\n",
    "imagex = matplotlib.image.imread(\"C:/Users/avish/Desktop/New folder/tomato12.jpg\")"
   ]
  },
  {
   "cell_type": "code",
   "execution_count": 4,
   "id": "f921941f",
   "metadata": {},
   "outputs": [
    {
     "name": "stdout",
     "output_type": "stream",
     "text": [
      "Data type <class 'numpy.ndarray'>\n"
     ]
    }
   ],
   "source": [
    "print(\"Data type\", type(imagex))"
   ]
  },
  {
   "cell_type": "code",
   "execution_count": 5,
   "id": "965cb806",
   "metadata": {},
   "outputs": [],
   "source": [
    "#print(imagex)"
   ]
  },
  {
   "cell_type": "code",
   "execution_count": 6,
   "id": "21701508",
   "metadata": {},
   "outputs": [],
   "source": [
    "#asd = tomato1.convert(\"RGB\")\n",
    "#Convert to RGB colorspace\n",
    "\n",
    "\n",
    "#rgb_pixel_value = asd.getpixel((10,15))"
   ]
  },
  {
   "cell_type": "code",
   "execution_count": 7,
   "id": "5b871b83",
   "metadata": {},
   "outputs": [
    {
     "name": "stdout",
     "output_type": "stream",
     "text": [
      "Requirement already satisfied: pillow in c:\\users\\avish\\appdata\\local\\programs\\python\\python310\\lib\\site-packages (9.1.0)\n",
      "Note: you may need to restart the kernel to use updated packages.\n"
     ]
    }
   ],
   "source": [
    "pip install pillow\n"
   ]
  },
  {
   "cell_type": "code",
   "execution_count": 8,
   "id": "842590a1",
   "metadata": {},
   "outputs": [],
   "source": [
    "#from PIL import Image\n",
    "\n",
    "#img = Image.fromarray(array)\n",
    "#img.save('testrgb.png')"
   ]
  },
  {
   "cell_type": "code",
   "execution_count": 9,
   "id": "e23f6868",
   "metadata": {},
   "outputs": [],
   "source": [
    "import numpy as np\n",
    "\n",
    "width = 5\n",
    "height = 4\n",
    "\n",
    "array = np.zeros([height, width, 3], dtype=np.uint8)"
   ]
  },
  {
   "cell_type": "code",
   "execution_count": 10,
   "id": "51c47cfc",
   "metadata": {},
   "outputs": [],
   "source": [
    "array[:,:] = [255, 128, 0]"
   ]
  },
  {
   "cell_type": "code",
   "execution_count": 11,
   "id": "7b14b26f",
   "metadata": {},
   "outputs": [],
   "source": [
    "from PIL import Image\n",
    "\n",
    "img = Image.fromarray(array)\n",
    "img.save('testrgb.png')"
   ]
  },
  {
   "cell_type": "code",
   "execution_count": 12,
   "id": "22ee830d",
   "metadata": {},
   "outputs": [],
   "source": [
    "import numpy as np\n",
    "from PIL import Image\n",
    "\n",
    "array = np.zeros([100, 200, 3], dtype=np.uint8)\n",
    "array[:,:50] = [255, 128, 0] #Orange left side\n",
    "array[:,50:] = [0, 0, 255]   #Blue right side\n",
    "array[50:,:] = [0, 0, 255] \n",
    "array[0,0]=[0,0,0]\n",
    "img = Image.fromarray(array)\n",
    "img.save('testrgb.png')\n",
    "plt.show()"
   ]
  },
  {
   "cell_type": "code",
   "execution_count": 13,
   "id": "7a322d7e",
   "metadata": {},
   "outputs": [],
   "source": [
    "#for x in imagex:  # outer loop  \n",
    " #   for i in x:  # inner loop  \n",
    "  #      print(imagex[i,x])"
   ]
  },
  {
   "cell_type": "code",
   "execution_count": 18,
   "id": "f95260c1",
   "metadata": {
    "scrolled": true
   },
   "outputs": [
    {
     "name": "stdout",
     "output_type": "stream",
     "text": [
      "[251 255 254]\n",
      "340224\n",
      "<class 'numpy.ndarray'>\n",
      "251\n",
      "443\n",
      "(256, 443, 3)\n"
     ]
    }
   ],
   "source": [
    "print(imagex[0,0])\n",
    "print(imagex.size)\n",
    "#imagex[0,0]=[,0,0]\n",
    "#if imagex[0,0]\n",
    "print(type(imagex))\n",
    "print(imagex[0,0,0])\n",
    "print(len(imagex[0]))\n",
    "print(imagex.shape)"
   ]
  },
  {
   "cell_type": "code",
   "execution_count": 20,
   "id": "da9ae422",
   "metadata": {},
   "outputs": [
    {
     "ename": "TypeError",
     "evalue": "'int' object is not iterable",
     "output_type": "error",
     "traceback": [
      "\u001b[1;31m---------------------------------------------------------------------------\u001b[0m",
      "\u001b[1;31mTypeError\u001b[0m                                 Traceback (most recent call last)",
      "Input \u001b[1;32mIn [20]\u001b[0m, in \u001b[0;36m<cell line: 1>\u001b[1;34m()\u001b[0m\n\u001b[1;32m----> 1\u001b[0m \u001b[38;5;28;01mfor\u001b[39;00m x \u001b[38;5;129;01min\u001b[39;00m ROW:  \u001b[38;5;66;03m# outer loop  \u001b[39;00m\n\u001b[0;32m      2\u001b[0m     \u001b[38;5;28;01mfor\u001b[39;00m i \u001b[38;5;129;01min\u001b[39;00m COL:  \u001b[38;5;66;03m# inner loop  \u001b[39;00m\n\u001b[0;32m      3\u001b[0m         \u001b[38;5;28mprint\u001b[39m(imagex[x,i])\n",
      "\u001b[1;31mTypeError\u001b[0m: 'int' object is not iterable"
     ]
    }
   ],
   "source": [
    "for x in ROW:  # outer loop  \n",
    "    for i in COL:  # inner loop  \n",
    "        print(imagex[x,i])"
   ]
  },
  {
   "cell_type": "code",
   "execution_count": 16,
   "id": "d5cb4e66",
   "metadata": {},
   "outputs": [
    {
     "name": "stdout",
     "output_type": "stream",
     "text": [
      "(256, 1329)\n"
     ]
    },
    {
     "data": {
      "text/plain": [
       "numpy.ndarray"
      ]
     },
     "execution_count": 16,
     "metadata": {},
     "output_type": "execute_result"
    }
   ],
   "source": [
    "newarr = imagex.reshape(256,443*3)\n",
    "#print(newarr)\n",
    "print(newarr.shape)\n",
    "ROW=len(newarr)\n",
    "COL=len(newarr[0])\n",
    "dum=imagex\n",
    "redRange = np.zeros([256, 1329])\n",
    "greenRange = np.zeros([256, 1329])\n",
    "blueRange = np.zeros([256, 1329])\n",
    "#type(imagex)\n",
    "type(blueRange)"
   ]
  },
  {
   "cell_type": "code",
   "execution_count": 17,
   "id": "795c8f74",
   "metadata": {},
   "outputs": [
    {
     "ename": "TypeError",
     "evalue": "'int' object is not iterable",
     "output_type": "error",
     "traceback": [
      "\u001b[1;31m---------------------------------------------------------------------------\u001b[0m",
      "\u001b[1;31mTypeError\u001b[0m                                 Traceback (most recent call last)",
      "Input \u001b[1;32mIn [17]\u001b[0m, in \u001b[0;36m<cell line: 1>\u001b[1;34m()\u001b[0m\n\u001b[1;32m----> 1\u001b[0m \u001b[38;5;28;01mfor\u001b[39;00m x \u001b[38;5;129;01min\u001b[39;00m ROW:  \u001b[38;5;66;03m# outer loop  \u001b[39;00m\n\u001b[0;32m      2\u001b[0m     \u001b[38;5;28;01mfor\u001b[39;00m i \u001b[38;5;129;01min\u001b[39;00m COL:  \u001b[38;5;66;03m# inner loop  \u001b[39;00m\n\u001b[0;32m      3\u001b[0m         \u001b[38;5;28mprint\u001b[39m(newarr[x,i])\n",
      "\u001b[1;31mTypeError\u001b[0m: 'int' object is not iterable"
     ]
    }
   ],
   "source": [
    "for x in ROW:  # outer loop  \n",
    "    for i in COL:  # inner loop  \n",
    "        print(newarr[x,i])"
   ]
  },
  {
   "cell_type": "code",
   "execution_count": null,
   "id": "2aca9548",
   "metadata": {},
   "outputs": [],
   "source": [
    "n=1\n",
    "l=2\n",
    "for i in range (ROW):\n",
    "    for j in range (COL-3):\n",
    "        j=j+3\n",
    "        #print(newarr[i,j])\n",
    "    \n",
    "        x=newarr[i,j]\n",
    "    \n",
    "        if x>200:\n",
    "            xx=1\n",
    "        else:\n",
    "            xx=0\n",
    "        \n",
    "        redRange[i,j]=xx\n",
    "        \n",
    "for m in range (ROW):\n",
    "    for n in range (COL-3):\n",
    "        n=n+3\n",
    "        #print(newarr[m,n])\n",
    "        \n",
    "        y=newarr[m,n]\n",
    "        if (y>30)and(y<200):\n",
    "            yy=1\n",
    "        else:\n",
    "            yy=0\n",
    "        greenRange[m,n]=yy\n",
    "      #  redRange(newarr[m,l])\n",
    "        \n",
    "for b in range (ROW):\n",
    "    for l in range (COL-3):\n",
    "        l=l+3\n",
    "        #print(newarr[b,l])\n",
    "       # redRange(newarr[b,l])\n",
    "    z=newarr[b,l]\n",
    "    if (z>0)and(z<130):\n",
    "        zz=1\n",
    "    else:\n",
    "        zz=0\n",
    "    blueRange[b,l]=zz\n"
   ]
  },
  {
   "cell_type": "code",
   "execution_count": null,
   "id": "8f970cd6",
   "metadata": {},
   "outputs": [],
   "source": [
    "for v in range (ROW):\n",
    "    for b in range (COL):\n",
    "        print(redRange[v,b])\n",
    "        \n",
    "for i in range (ROW):\n",
    "    for j in range (COL):\n",
    "        \n",
    "         redRange[i,j]\n",
    "        "
   ]
  },
  {
   "cell_type": "code",
   "execution_count": null,
   "id": "0ed2e8c4",
   "metadata": {},
   "outputs": [],
   "source": [
    "print(imagex)\n"
   ]
  },
  {
   "cell_type": "code",
   "execution_count": null,
   "id": "0c77e550",
   "metadata": {},
   "outputs": [],
   "source": [
    "cv2.imwrite('C:/Users/avish/Desktop/New folder/img.jpg',imagex)"
   ]
  },
  {
   "cell_type": "code",
   "execution_count": null,
   "id": "86f7ada6",
   "metadata": {},
   "outputs": [],
   "source": [
    "def redRange(x):\n",
    "    if x>200:\n",
    "        xx=1\n",
    "    else:\n",
    "        xx=0\n",
    "    for xr in range (ROW):\n",
    "        for yr in range (COL):\n",
    "            redRange[xr,yr]==xx\n",
    "    return xx\n",
    "\n",
    "def greenRange(y):\n",
    "    if (y>30)and(y<200):\n",
    "        yy=1\n",
    "    else:\n",
    "        yy=0\n",
    "    for xg in range (ROW):\n",
    "        for yg in range (COL):\n",
    "            redRange[xg,yg]==yy\n",
    "    return yy\n",
    "\n",
    "def blueRange(z):\n",
    "    if (z>0)and(z<130):\n",
    "        zz=1\n",
    "    else:\n",
    "        zz=0\n",
    "    for bg in range (ROW):\n",
    "        for bg in range (COL):\n",
    "            redRange[zg,zg]==zz\n",
    "    return zz\n"
   ]
  },
  {
   "cell_type": "code",
   "execution_count": null,
   "id": "a023b401",
   "metadata": {},
   "outputs": [],
   "source": [
    "if (0)and(1)and(1):\n",
    "    print(1)"
   ]
  },
  {
   "cell_type": "code",
   "execution_count": null,
   "id": "33e05f57",
   "metadata": {},
   "outputs": [],
   "source": []
  }
 ],
 "metadata": {
  "kernelspec": {
   "display_name": "Python 3 (ipykernel)",
   "language": "python",
   "name": "python3"
  },
  "language_info": {
   "codemirror_mode": {
    "name": "ipython",
    "version": 3
   },
   "file_extension": ".py",
   "mimetype": "text/x-python",
   "name": "python",
   "nbconvert_exporter": "python",
   "pygments_lexer": "ipython3",
   "version": "3.10.4"
  }
 },
 "nbformat": 4,
 "nbformat_minor": 5
}
