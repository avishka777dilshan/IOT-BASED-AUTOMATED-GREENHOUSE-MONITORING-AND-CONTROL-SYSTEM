{
 "cells": [
  {
   "cell_type": "code",
   "execution_count": 1,
   "id": "c6ba763b",
   "metadata": {},
   "outputs": [],
   "source": [
    "import numpy as np"
   ]
  },
  {
   "cell_type": "code",
   "execution_count": 2,
   "id": "ae3bc5e0",
   "metadata": {},
   "outputs": [],
   "source": [
    "import matplotlib\n",
    "import matplotlib.pyplot as plt\n",
    "import matplotlib.figure as fig\n",
    "rgb_weights = [0.2989, 0.5870, 0.1140]\n",
    "imagex = matplotlib.image.imread(\"C:/Users/avish/Desktop/tomato12.jpg\")"
   ]
  },
  {
   "cell_type": "code",
   "execution_count": 3,
   "id": "7543d7c6",
   "metadata": {},
   "outputs": [
    {
     "name": "stdout",
     "output_type": "stream",
     "text": [
      "Data type <class 'numpy.ndarray'>\n"
     ]
    }
   ],
   "source": [
    "print(\"Data type\", type(imagex))"
   ]
  },
  {
   "cell_type": "code",
   "execution_count": 4,
   "id": "8315cfd8",
   "metadata": {},
   "outputs": [],
   "source": [
    "grayscale_image = np.dot(imagex[...,:3], rgb_weights)\n",
    "\n",
    "#dummy=np.dot(imagex[...,:3], rgb_weights)\n",
    "#grayscale_image=(grayscale_image//1)"
   ]
  },
  {
   "cell_type": "code",
   "execution_count": 5,
   "id": "9c452e9a",
   "metadata": {},
   "outputs": [],
   "source": [
    "#k=0\n",
    "#v=0\n",
    "#for x in range (256):\n",
    "#    for y in range (443):\n",
    "#        grayscale_image[x,y]=k\n",
    "#        k=0\n",
    "#        for z in range (3):\n",
    "#          #  v=result[k]\n",
    "#            k=k+(imagex[x,y,z])\n",
    "#          # print(imagex)\n",
    "\n",
    "#print(imagex)\n",
    "#print(imagex.shape)\n",
    "#print(imagex.size)"
   ]
  },
  {
   "cell_type": "code",
   "execution_count": 6,
   "id": "c7871fd8",
   "metadata": {},
   "outputs": [],
   "source": [
    "#plt.imshow(grayscale_image, cmap=plt.get_cmap(\"gray\"))\n",
    "#plt.show()"
   ]
  },
  {
   "cell_type": "code",
   "execution_count": 7,
   "id": "02690a76",
   "metadata": {},
   "outputs": [
    {
     "name": "stdout",
     "output_type": "stream",
     "text": [
      "57.3132\n",
      "88.05279999999999\n",
      "51.798500000000004\n"
     ]
    }
   ],
   "source": [
    "#fig = plt.gcf()\n",
    "#size = fig.get_size_inches()*fig.dpi\n",
    "#print(size)\n",
    "#print(fig.get_size_inches)\n",
    "#print(fig.dpi) #resolution in dots per inch.\n",
    "##print(grayscale_image.shape) #dimensions of the array\n",
    "print(grayscale_image[175,290])\n",
    "print(grayscale_image[150,300])\n",
    "print(grayscale_image[210,310])"
   ]
  },
  {
   "cell_type": "code",
   "execution_count": 8,
   "id": "72afa117",
   "metadata": {},
   "outputs": [
    {
     "name": "stdout",
     "output_type": "stream",
     "text": [
      "[[[251 255 254]\n",
      "  [251 255 254]\n",
      "  [251 255 254]\n",
      "  ...\n",
      "  [ 85 165 114]\n",
      "  [ 85 165 114]\n",
      "  [ 85 165 114]]\n",
      "\n",
      " [[251 255 254]\n",
      "  [251 255 254]\n",
      "  [251 255 254]\n",
      "  ...\n",
      "  [ 85 165 114]\n",
      "  [ 86 164 114]\n",
      "  [ 86 164 114]]\n",
      "\n",
      " [[251 255 254]\n",
      "  [251 255 254]\n",
      "  [253 255 254]\n",
      "  ...\n",
      "  [ 88 166 116]\n",
      "  [ 88 166 116]\n",
      "  [ 89 165 116]]\n",
      "\n",
      " ...\n",
      "\n",
      " [[ 95 159  10]\n",
      "  [ 95 158   9]\n",
      "  [ 96 156   8]\n",
      "  ...\n",
      "  [ 59  96   0]\n",
      "  [ 59  96   0]\n",
      "  [ 59  96   0]]\n",
      "\n",
      " [[ 95 159  11]\n",
      "  [ 95 157  10]\n",
      "  [ 96 156   9]\n",
      "  ...\n",
      "  [ 59  96   0]\n",
      "  [ 59  96   0]\n",
      "  [ 59  96   0]]\n",
      "\n",
      " [[ 94 158  10]\n",
      "  [ 94 156   9]\n",
      "  [ 95 155   8]\n",
      "  ...\n",
      "  [ 59  96   1]\n",
      "  [ 59  96   1]\n",
      "  [ 59  96   1]]]\n"
     ]
    }
   ],
   "source": [
    "print(imagex)"
   ]
  },
  {
   "cell_type": "code",
   "execution_count": 9,
   "id": "bd1b485e",
   "metadata": {
    "scrolled": true
   },
   "outputs": [],
   "source": [
    "#img= np.fromfile(grayscale_image, dtype = np.uint8, count = ROWS * COLS)  #Construct an array from data in a text or binary file"
   ]
  },
  {
   "cell_type": "code",
   "execution_count": 10,
   "id": "878d42fe",
   "metadata": {},
   "outputs": [
    {
     "name": "stdout",
     "output_type": "stream",
     "text": [
      "(256, 443)\n",
      "(256, 443, 3)\n",
      "<class 'numpy.ndarray'>\n"
     ]
    }
   ],
   "source": [
    "print(grayscale_image.shape)\n",
    "print(imagex.shape)\n",
    "print(type(grayscale_image))\n"
   ]
  },
  {
   "cell_type": "code",
   "execution_count": 11,
   "id": "b3ca87a2",
   "metadata": {},
   "outputs": [],
   "source": [
    "##Save the output image\n",
    "#print(\"... Save the output image\")\n",
    "#grayscale_image.astype('int8').tofile('as.jpg')\n",
    "#print(\"... File successfully saved\")\n",
    "# Closing the file\n",
    "#grayscale_image.close()\n",
    "#grayscale_image[1,2]=5\n",
    "#arr=grayscale_image"
   ]
  },
  {
   "cell_type": "code",
   "execution_count": 12,
   "id": "7045aaa5",
   "metadata": {},
   "outputs": [],
   "source": [
    "#print(grayscale_image)"
   ]
  },
  {
   "cell_type": "code",
   "execution_count": 13,
   "id": "9a41b127",
   "metadata": {},
   "outputs": [
    {
     "name": "stdout",
     "output_type": "stream",
     "text": [
      "(256, 443)\n"
     ]
    }
   ],
   "source": [
    "print(grayscale_image.shape)"
   ]
  },
  {
   "cell_type": "code",
   "execution_count": 14,
   "id": "193531f1",
   "metadata": {},
   "outputs": [],
   "source": [
    "#y = list(dummy)\n",
    "#y[(0,0)] = \"kiwi\"\n",
    "#dummy = tuple(y)\n",
    "\n",
    "#print(dummy)"
   ]
  },
  {
   "cell_type": "code",
   "execution_count": 15,
   "id": "fb8be84c",
   "metadata": {},
   "outputs": [
    {
     "name": "stdout",
     "output_type": "stream",
     "text": [
      "246.8357\n",
      "256\n",
      "443\n"
     ]
    }
   ],
   "source": [
    "#lower_red = [0,150,50]---------->66\n",
    "#upper_red = [10,255,255]-------->173\n",
    "\n",
    "#     COL  COL  COL\n",
    "#ROW\n",
    "#ROW\n",
    "#ROW\n",
    "\n",
    "print(grayscale_image[1,90])\n",
    "ROW=len(grayscale_image)\n",
    "COL=len(grayscale_image[0])\n",
    "print(ROW)\n",
    "print(COL)"
   ]
  },
  {
   "cell_type": "code",
   "execution_count": 16,
   "id": "9eab4a51",
   "metadata": {},
   "outputs": [
    {
     "name": "stdout",
     "output_type": "stream",
     "text": [
      "173\n"
     ]
    }
   ],
   "source": [
    "#print(grayscale_image)\n",
    "#arr=grayscale_image[0,0]\n",
    "#print(arr)\n",
    "tup1 = (\"173\",\"66\")\n",
    "print( tup1[0] )\n",
    "\n",
    "for i in range (ROW):\n",
    "    for j in range (COL):\n",
    "        if(((grayscale_image[i,j])>56)and((grayscale_image[i,j])<57)):\n",
    "            #grayscale_image[i,j]=((grayscale_image[i,j])/(grayscale_image[i,j]))*255\n",
    "            grayscale_image[i,j]=(grayscale_image[i,j])*0\n",
    "       # if((grayscale_image[i,j]==57.3132)or(grayscale_image[i,j]==88.05279999999999)or(grayscale_image[i,j]==51.798500000000004)):\n",
    "        #    grayscale_image[i,j]=(grayscale_image[i,j])*0\n",
    "        else:\n",
    "           # grayscale_image[i,j]=(grayscale_image[i,j])*0\n",
    "            grayscale_image[i,j]=((grayscale_image[i,j])/(grayscale_image[i,j]))*255\n",
    "            \n",
    "            \n",
    "            \n",
    "        "
   ]
  },
  {
   "cell_type": "code",
   "execution_count": 17,
   "id": "27d29be3",
   "metadata": {
    "scrolled": true
   },
   "outputs": [],
   "source": [
    "#import array as arr\n",
    " \n",
    "# creating an array with integer type\n",
    "# a[2,3]= arr.array('i', [1, 2, 3])\n",
    "\n",
    "#for i in range (ROW):\n",
    " #   for j in range (COL):\n",
    "  #      if (grayscale_image[i,j]<173)&(grayscale_image[i,j]>66):\n",
    "   #          print(grayscale_image[i,j])\n",
    "        #   redimg[i,j]=grayscale_image[i,j]\n",
    "        #else:\n",
    "           # redimg[i,j]=0\n",
    "\n",
    "#for x in grayscale_image:  # outer loop  \n",
    " #   for i in x:  # inner loop  \n",
    "  #      print(grayscale_image[i,x])\n",
    "        #if (int(grayscale_image[i,x])<173)&(int(grayscale_image[i,x])>66):\n",
    "   #         print(grayscale_image[i,x])\n",
    "            #redimg[i,x]=grayscale_image[i,x]\n",
    "        #else:\n",
    "         #   redimg[i,x]=0\n"
   ]
  },
  {
   "cell_type": "code",
   "execution_count": 18,
   "id": "8b6fd32b",
   "metadata": {},
   "outputs": [],
   "source": [
    "# creating an array with integer type\n",
    "# a[2,3]= arr.array('i', [1, 2, 3])\n",
    "#from array import *\n",
    "#redimg=[[ROW],[COL]]\n",
    "\n",
    "#for i in range (ROW):\n",
    " #   for j in range (COL):\n",
    "  #      if (grayscale_image[i,j]<173)&(grayscale_image[i,j]>66):\n",
    "   #         print(grayscale_image[i,j])\n",
    "    #        redimg[i,j]=grayscale_image[i,j]\n",
    "        "
   ]
  },
  {
   "cell_type": "code",
   "execution_count": 19,
   "id": "55b3fa1d",
   "metadata": {},
   "outputs": [],
   "source": [
    "#x = (\"apple\", \"banana\", \"cherry\")\n",
    "#y = list(grayscale_image)\n",
    "#y[1] = \"kiwi\"\n",
    "#grayscale_image = tuple(y)\n",
    "#if type(grayscale_image) == list:\n",
    " #   print(\"a is a list\")\n",
    "#else:\n",
    " #   print(\"a is a tuple\")\n",
    "\n",
    "#print(grayscale_image)"
   ]
  },
  {
   "cell_type": "code",
   "execution_count": null,
   "id": "bd02f7df",
   "metadata": {},
   "outputs": [],
   "source": []
  },
  {
   "cell_type": "code",
   "execution_count": 20,
   "id": "30e8220c",
   "metadata": {},
   "outputs": [],
   "source": [
    "#import array as arr\n",
    " \n",
    "# creating an array with integer type\n",
    " #a= arr.array(1, [1, 2, 3])"
   ]
  },
  {
   "cell_type": "code",
   "execution_count": 21,
   "id": "34bb0322",
   "metadata": {},
   "outputs": [],
   "source": [
    "# write a program to traverse every element of the two-dimensional array in Python.  \n",
    "#Student_dt = [ [72, 85, 87, 90, 69], [80, 87, 65, 89, 85], [96, 91, 70, 78, 97], [90, 93, 91, 90, 94], [57, 89, 82, 69, 60] ]  \n",
    "# Use for loop to print the entire elements of the two dimensional array.  \n",
    "#for x in grayscale_image:  # outer loop  \n",
    " #   for i in x:  # inner loop  \n",
    "        \n",
    "       #print(i, end = \" \") # print the elements  \n",
    "    #print() "
   ]
  },
  {
   "cell_type": "code",
   "execution_count": 22,
   "id": "87786730",
   "metadata": {},
   "outputs": [],
   "source": [
    "#print(redimage)"
   ]
  },
  {
   "cell_type": "code",
   "execution_count": 23,
   "id": "8c1391d5",
   "metadata": {},
   "outputs": [
    {
     "data": {
      "text/plain": [
       "True"
      ]
     },
     "execution_count": 23,
     "metadata": {},
     "output_type": "execute_result"
    }
   ],
   "source": [
    "import cv2\n",
    "cv2.imwrite('C:/Users/avish/Desktop/aac.jpg',grayscale_image)"
   ]
  },
  {
   "cell_type": "code",
   "execution_count": 24,
   "id": "0eb98dbe",
   "metadata": {},
   "outputs": [
    {
     "name": "stdout",
     "output_type": "stream",
     "text": [
      "173\n"
     ]
    }
   ],
   "source": [
    "tup1 = (\"173\",\"68\")\n",
    "print( tup1[0] )\n"
   ]
  },
  {
   "cell_type": "code",
   "execution_count": 25,
   "id": "7efe78a9",
   "metadata": {},
   "outputs": [
    {
     "name": "stdout",
     "output_type": "stream",
     "text": [
      "9\n"
     ]
    }
   ],
   "source": [
    "a=5\n",
    "b=7\n",
    "\n",
    "if ((6<b)and(6>a)):\n",
    "    print(9)"
   ]
  }
 ],
 "metadata": {
  "kernelspec": {
   "display_name": "Python 3 (ipykernel)",
   "language": "python",
   "name": "python3"
  },
  "language_info": {
   "codemirror_mode": {
    "name": "ipython",
    "version": 3
   },
   "file_extension": ".py",
   "mimetype": "text/x-python",
   "name": "python",
   "nbconvert_exporter": "python",
   "pygments_lexer": "ipython3",
   "version": "3.10.4"
  }
 },
 "nbformat": 4,
 "nbformat_minor": 5
}
