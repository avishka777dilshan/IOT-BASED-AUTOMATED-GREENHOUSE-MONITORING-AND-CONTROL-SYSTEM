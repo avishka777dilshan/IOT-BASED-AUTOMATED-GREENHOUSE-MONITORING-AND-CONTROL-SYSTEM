{
 "cells": [
  {
   "cell_type": "code",
   "execution_count": 1,
   "id": "913c4e3b",
   "metadata": {},
   "outputs": [],
   "source": [
    "import numpy as np\n",
    "\n",
    "def rgb2lab(R,G,B,C, illuminant='D50'):\n",
    "\n",
    "    # Normalise values\n",
    "    r = 34/255\n",
    "    g = 25/255\n",
    "    b = 145/255\n",
    "\n",
    "    # Linearise RGB values\n",
    "    rgb = np.array([r,g,b])\n",
    "    for i,j in enumerate(rgb):\n",
    "        if j > 0.04045 :\n",
    "            rgb[i] = ( ( j + 0.055 ) / 1.055 ) ** 2.4\n",
    "        else :\n",
    "            rgb[i] = j / 12.92\n",
    "\n",
    "    if illuminant == 'D50':\n",
    "        # sRGB\n",
    "        M = np.array([[0.4360747,  0.3850649,  0.1430804], \\\n",
    "                     [0.2225045,  0.7168786,  0.0606169], \\\n",
    "                     [0.0139322,  0.0971045,  0.7141733]])\n",
    "        Xn = 96.4242\n",
    "        Yn = 100.\n",
    "        Zn = 82.5188\n",
    "    elif illuminant == 'D65':\n",
    "        M = np.array([[0.4124564,  0.3575761,  0.1804375], \\\n",
    "                      [0.2126729,  0.7151522,  0.0721750], \\\n",
    "                      [0.0193339,  0.1191920,  0.9503041]])\n",
    "        # D65 illuminant\n",
    "        Xn = 95.0489\n",
    "        Yn = 100.\n",
    "        Zn = 108.5188\n",
    "    else:\n",
    "        print(\"Error. 'D50' or 'D65' are the only allowed values for illuminant.\")\n",
    "        return\n",
    "\n",
    "    XYZ = np.dot(M,rgb)*100\n",
    "\n",
    "    X = XYZ[0]\n",
    "    Y = XYZ[1]\n",
    "    Z = XYZ[2]\n",
    "\n",
    "    def f(t):\n",
    "        delta = 6./29\n",
    "        if (t>delta**3):\n",
    "            value = t**(1/3)\n",
    "        else:\n",
    "            value = t/(3*delta**2) + 4/29\n",
    "        return value\n",
    "\n",
    "    # Finally convert to Lab\n",
    "    L = 116*f(Y/Yn) - 16\n",
    "    a = 500*(f(X/Xn)-f(Y/Yn))\n",
    "    b = 200*(f(Y/Yn)-f(Z/Zn))\n",
    "    print(8)\n",
    "    \n",
    "    return (L,a,b)\n"
   ]
  },
  {
   "cell_type": "code",
   "execution_count": 2,
   "id": "426511f0",
   "metadata": {},
   "outputs": [
    {
     "ename": "TypeError",
     "evalue": "unsupported operand type(s) for ^: 'float' and 'float'",
     "output_type": "error",
     "traceback": [
      "\u001b[1;31m---------------------------------------------------------------------------\u001b[0m",
      "\u001b[1;31mTypeError\u001b[0m                                 Traceback (most recent call last)",
      "\u001b[1;32mc:\\Users\\avish\\Desktop\\All\\.sliit\\SLIIT Y3S1\\Design Project - I - EC3061\\codes\\try without libraries\\open an image\\rgb to lab.ipynb Cell 2'\u001b[0m in \u001b[0;36m<cell line: 8>\u001b[1;34m()\u001b[0m\n\u001b[0;32m      <a href='vscode-notebook-cell:/c%3A/Users/avish/Desktop/All/.sliit/SLIIT%20Y3S1/Design%20Project%20-%20I%20-%20EC3061/codes/try%20without%20libraries/open%20an%20image/rgb%20to%20lab.ipynb#ch0000001?line=5'>6</a>\u001b[0m var_B \u001b[39m=\u001b[39m ( \u001b[39m0\u001b[39m \u001b[39m/\u001b[39m \u001b[39m255\u001b[39m )\n\u001b[0;32m      <a href='vscode-notebook-cell:/c%3A/Users/avish/Desktop/All/.sliit/SLIIT%20Y3S1/Design%20Project%20-%20I%20-%20EC3061/codes/try%20without%20libraries/open%20an%20image/rgb%20to%20lab.ipynb#ch0000001?line=7'>8</a>\u001b[0m \u001b[39mif\u001b[39;00m ( var_R \u001b[39m>\u001b[39m \u001b[39m0.04045\u001b[39m ):\n\u001b[1;32m----> <a href='vscode-notebook-cell:/c%3A/Users/avish/Desktop/All/.sliit/SLIIT%20Y3S1/Design%20Project%20-%20I%20-%20EC3061/codes/try%20without%20libraries/open%20an%20image/rgb%20to%20lab.ipynb#ch0000001?line=8'>9</a>\u001b[0m     var_R \u001b[39m=\u001b[39m ( ( var_R \u001b[39m+\u001b[39;49m \u001b[39m0.055\u001b[39;49m ) \u001b[39m/\u001b[39;49m \u001b[39m1.055\u001b[39;49m ) \u001b[39m^\u001b[39;49m \u001b[39m2.4\u001b[39;49m\n\u001b[0;32m     <a href='vscode-notebook-cell:/c%3A/Users/avish/Desktop/All/.sliit/SLIIT%20Y3S1/Design%20Project%20-%20I%20-%20EC3061/codes/try%20without%20libraries/open%20an%20image/rgb%20to%20lab.ipynb#ch0000001?line=9'>10</a>\u001b[0m \u001b[39melse\u001b[39;00m: \n\u001b[0;32m     <a href='vscode-notebook-cell:/c%3A/Users/avish/Desktop/All/.sliit/SLIIT%20Y3S1/Design%20Project%20-%20I%20-%20EC3061/codes/try%20without%20libraries/open%20an%20image/rgb%20to%20lab.ipynb#ch0000001?line=10'>11</a>\u001b[0m     var_R \u001b[39m=\u001b[39m var_R \u001b[39m/\u001b[39m \u001b[39m12.92\u001b[39m\n",
      "\u001b[1;31mTypeError\u001b[0m: unsupported operand type(s) for ^: 'float' and 'float'"
     ]
    }
   ],
   "source": [
    "var_R = ( 255 / 255 )\n",
    "var_G = ( 0 / 255 )\n",
    "var_B = ( 0 / 255 )\n",
    "\n",
    "if ( var_R > 0.04045 ):\n",
    "    var_R = ( ( var_R + 0.055 ) / 1.055 ) ^ 2.4\n",
    "else: \n",
    "    var_R = var_R / 12.92\n",
    "if ( var_G > 0.04045 ):\n",
    "    var_G = ( ( var_G + 0.055 ) / 1.055 ) ^ 2.4\n",
    "else:\n",
    "    var_G = var_G / 12.92\n",
    "if ( var_B > 0.04045 ):\n",
    "    var_B = ( ( var_B + 0.055 ) / 1.055 ) ^ 2.4\n",
    "else:\n",
    "    var_B = var_B / 12.92\n",
    "\n",
    "var_R = var_R * 100\n",
    "var_G = var_G * 100\n",
    "var_B = var_B * 100\n",
    "\n",
    "X = var_R * 0.4124 + var_G * 0.3576 + var_B * 0.1805\n",
    "Y = var_R * 0.2126 + var_G * 0.7152 + var_B * 0.0722\n",
    "Z = var_R * 0.0193 + var_G * 0.1192 + var_B * 0.9505"
   ]
  },
  {
   "cell_type": "code",
   "execution_count": null,
   "id": "f42555eb",
   "metadata": {},
   "outputs": [],
   "source": []
  }
 ],
 "metadata": {
  "kernelspec": {
   "display_name": "Python 3 (ipykernel)",
   "language": "python",
   "name": "python3"
  },
  "language_info": {
   "codemirror_mode": {
    "name": "ipython",
    "version": 3
   },
   "file_extension": ".py",
   "mimetype": "text/x-python",
   "name": "python",
   "nbconvert_exporter": "python",
   "pygments_lexer": "ipython3",
   "version": "3.10.4"
  }
 },
 "nbformat": 4,
 "nbformat_minor": 5
}
