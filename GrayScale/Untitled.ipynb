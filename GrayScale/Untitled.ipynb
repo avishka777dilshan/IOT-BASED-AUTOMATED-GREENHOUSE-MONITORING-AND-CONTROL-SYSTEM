{
 "cells": [
  {
   "cell_type": "code",
   "execution_count": 1,
   "id": "00575376",
   "metadata": {},
   "outputs": [
    {
     "ename": "ModuleNotFoundError",
     "evalue": "No module named 'color_recognition_api'",
     "output_type": "error",
     "traceback": [
      "\u001b[1;31m---------------------------------------------------------------------------\u001b[0m",
      "\u001b[1;31mModuleNotFoundError\u001b[0m                       Traceback (most recent call last)",
      "Input \u001b[1;32mIn [1]\u001b[0m, in \u001b[0;36m<cell line: 10>\u001b[1;34m()\u001b[0m\n\u001b[0;32m      1\u001b[0m \u001b[38;5;66;03m#!/usr/bin/python\u001b[39;00m\n\u001b[0;32m      2\u001b[0m \u001b[38;5;66;03m# -*- coding: utf-8 -*-\u001b[39;00m\n\u001b[0;32m      3\u001b[0m \u001b[38;5;66;03m# ----------------------------------------------\u001b[39;00m\n\u001b[1;32m   (...)\u001b[0m\n\u001b[0;32m      6\u001b[0m \u001b[38;5;66;03m# --- Date           : 31st December 2017 - new year eve :)\u001b[39;00m\n\u001b[0;32m      7\u001b[0m \u001b[38;5;66;03m# ----------------------------------------------\u001b[39;00m\n\u001b[0;32m      9\u001b[0m \u001b[38;5;28;01mimport\u001b[39;00m \u001b[38;5;21;01mcv2\u001b[39;00m\n\u001b[1;32m---> 10\u001b[0m \u001b[38;5;28;01mfrom\u001b[39;00m \u001b[38;5;21;01mcolor_recognition_api\u001b[39;00m \u001b[38;5;28;01mimport\u001b[39;00m color_histogram_feature_extraction\n\u001b[0;32m     11\u001b[0m \u001b[38;5;28;01mfrom\u001b[39;00m \u001b[38;5;21;01mcolor_recognition_api\u001b[39;00m \u001b[38;5;28;01mimport\u001b[39;00m knn_classifier\n\u001b[0;32m     12\u001b[0m \u001b[38;5;28;01mimport\u001b[39;00m \u001b[38;5;21;01mos\u001b[39;00m\n",
      "\u001b[1;31mModuleNotFoundError\u001b[0m: No module named 'color_recognition_api'"
     ]
    }
   ],
   "source": [
    "#!/usr/bin/python\n",
    "# -*- coding: utf-8 -*-\n",
    "# ----------------------------------------------\n",
    "# --- Author         : Ahmet Ozlu\n",
    "# --- Mail           : ahmetozlu93@gmail.com\n",
    "# --- Date           : 31st December 2017 - new year eve :)\n",
    "# ----------------------------------------------\n",
    "\n",
    "import cv2\n",
    "from color_recognition_api import color_histogram_feature_extraction\n",
    "from color_recognition_api import knn_classifier\n",
    "import os\n",
    "import os.path\n",
    "\n",
    "cap = cv2.VideoCapture(1)\n",
    "(ret, frame) = cap.read()\n",
    "prediction = 'n.a.'\n",
    "\n",
    "# checking whether the training data is ready\n",
    "PATH = './training.data'\n",
    "\n",
    "if os.path.isfile(PATH) and os.access(PATH, os.R_OK):\n",
    "    print ('training data is ready, classifier is loading...')\n",
    "else:\n",
    "    print ('training data is being created...')\n",
    "    open('training.data', 'w')\n",
    "    color_histogram_feature_extraction.training()\n",
    "    print ('training data is ready, classifier is loading...')\n",
    "\n",
    "while True:\n",
    "\n",
    "    # Capture frame-by-frame\n",
    "    (ret, frame) = cap.read()\n",
    "\n",
    "    cv2.putText(\n",
    "        frame,\n",
    "        'Prediction: ' + prediction,\n",
    "        (15, 45),\n",
    "        cv2.FONT_HERSHEY_PLAIN,\n",
    "        3,\n",
    "        200,\n",
    "        )\n",
    "\n",
    "    # Display the resulting frame\n",
    "    cv2.imshow('color classifier', frame)\n",
    "\n",
    "    color_histogram_feature_extraction.color_histogram_of_test_image(frame)\n",
    "\n",
    "    prediction = knn_classifier.main('training.data', 'test.data')\n",
    "    if cv2.waitKey(1) & 0xFF == ord('q'):\n",
    "        break\n",
    "\n",
    "# When everything done, release the capture\n",
    "cap.release()\n",
    "cv2.destroyAllWindows()"
   ]
  },
  {
   "cell_type": "code",
   "execution_count": null,
   "id": "3fc83c01",
   "metadata": {},
   "outputs": [],
   "source": []
  }
 ],
 "metadata": {
  "kernelspec": {
   "display_name": "Python 3 (ipykernel)",
   "language": "python",
   "name": "python3"
  },
  "language_info": {
   "codemirror_mode": {
    "name": "ipython",
    "version": 3
   },
   "file_extension": ".py",
   "mimetype": "text/x-python",
   "name": "python",
   "nbconvert_exporter": "python",
   "pygments_lexer": "ipython3",
   "version": "3.10.4"
  }
 },
 "nbformat": 4,
 "nbformat_minor": 5
}
